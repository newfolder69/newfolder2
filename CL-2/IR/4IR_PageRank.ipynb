{
 "cells": [
  {
   "cell_type": "code",
   "execution_count": 3,
   "id": "673fdc9f-16bf-4f43-986f-4def14096584",
   "metadata": {},
   "outputs": [
    {
     "name": "stdout",
     "output_type": "stream",
     "text": [
      "Page A: 0.2878\n",
      "Page B: 0.2020\n",
      "Page C: 0.3869\n",
      "Page D: 0.1233\n"
     ]
    }
   ],
   "source": [
    "import numpy as np\n",
    "\n",
    "# Define the damping factor and tolerance for convergence\n",
    "damping_factor = 0.85\n",
    "tolerance = 1e-6  # Convergence tolerance\n",
    "\n",
    "# Example link structure (adjacency matrix)\n",
    "# Pages A, B, C, D where 1 indicates a link from one page to another\n",
    "link_matrix = np.array([\n",
    "    [0, 1, 1, 0],  # Links to A\n",
    "    [0, 0, 1, 0],  # Links to B\n",
    "    [1, 0, 0, 1],  # Links to C\n",
    "    [0, 1, 0, 0]   # Links to D\n",
    "])\n",
    "\n",
    "# Number of pages\n",
    "n_pages = link_matrix.shape[0]\n",
    "\n",
    "# Initialize PageRank vector with equal probability for each page\n",
    "page_rank = np.ones(n_pages) / n_pages\n",
    "\n",
    "# Build the transition matrix\n",
    "transition_matrix = np.zeros((n_pages, n_pages))\n",
    "for i in range(n_pages):\n",
    "    # Sum of links for page `i`\n",
    "    links = np.sum(link_matrix[:, i])\n",
    "    if links > 0:\n",
    "        transition_matrix[:, i] = link_matrix[:, i] / links\n",
    "    else:\n",
    "        # If no outbound links, distribute uniformly across all pages\n",
    "        transition_matrix[:, i] = np.ones(n_pages) / n_pages\n",
    "\n",
    "# Iteratively calculate PageRank until convergence\n",
    "while True:\n",
    "    # Apply the PageRank formula with damping factor\n",
    "    new_page_rank = ((1 - damping_factor) / n_pages) + damping_factor * transition_matrix @ page_rank\n",
    "    \n",
    "    # Check if the PageRank values have converged\n",
    "    if np.linalg.norm(new_page_rank - page_rank, ord=1) < tolerance:\n",
    "        break\n",
    "    \n",
    "    # Update the page_rank vector\n",
    "    page_rank = new_page_rank\n",
    "\n",
    "# Normalize the PageRank values (optional)\n",
    "page_rank = page_rank / np.sum(page_rank)\n",
    "\n",
    "# Display the final PageRank scores\n",
    "for i, score in enumerate(page_rank):\n",
    "    print(f\"Page {chr(65 + i)}: {score:.4f}\")"
   ]
  },
  {
   "cell_type": "code",
   "execution_count": null,
   "id": "b8ada1b1-7bab-4957-9295-44b523c39997",
   "metadata": {},
   "outputs": [],
   "source": []
  },
  {
   "cell_type": "code",
   "execution_count": null,
   "id": "fbf5818b-f006-492b-8cb9-630f51e0e390",
   "metadata": {},
   "outputs": [],
   "source": []
  },
  {
   "cell_type": "code",
   "execution_count": null,
   "id": "73ab530c-3d30-404e-9f9e-684e0ca8ebb5",
   "metadata": {},
   "outputs": [],
   "source": []
  },
  {
   "cell_type": "code",
   "execution_count": null,
   "id": "32dacbd1-8b00-4f31-b142-6d8df96da835",
   "metadata": {},
   "outputs": [],
   "source": []
  },
  {
   "cell_type": "code",
   "execution_count": null,
   "id": "3c073fcb-9d0e-47e3-83ef-2d14e9e52121",
   "metadata": {},
   "outputs": [],
   "source": []
  },
  {
   "cell_type": "markdown",
   "id": "9dfab87e-6a68-4cb7-9fb4-598f8d2016a1",
   "metadata": {},
   "source": []
  }
 ],
 "metadata": {
  "kernelspec": {
   "display_name": "Python 3 (ipykernel)",
   "language": "python",
   "name": "python3"
  },
  "language_info": {
   "codemirror_mode": {
    "name": "ipython",
    "version": 3
   },
   "file_extension": ".py",
   "mimetype": "text/x-python",
   "name": "python",
   "nbconvert_exporter": "python",
   "pygments_lexer": "ipython3",
   "version": "3.10.11"
  }
 },
 "nbformat": 4,
 "nbformat_minor": 5
}
