{
 "cells": [
  {
   "cell_type": "code",
   "execution_count": null,
   "metadata": {
    "colab": {
     "base_uri": "https://localhost:8080/",
     "height": 1000
    },
    "executionInfo": {
     "elapsed": 36423,
     "status": "error",
     "timestamp": 1729573482286,
     "user": {
      "displayName": "Sankalp Borse",
      "userId": "10460464087736570487"
     },
     "user_tz": -330
    },
    "id": "nbMGm1AskJp1",
    "outputId": "cdb5c2b8-127a-467f-8acf-d4053336dcbc"
   },
   "outputs": [],
   "source": [
    "import http.client, urllib.request, urllib.parse\n",
    "\n",
    "# Set the API key for authenticating requests to ThingSpeak\n",
    "key = ''  # replace with your correct API key\n",
    "\n",
    "# Initialize temperature and wind speed values\n",
    "t = int(22)  # starting temperature\n",
    "w = int(5)   # starting wind speed\n",
    "\n",
    "# Start an infinite loop to continuously send data to ThingSpeak\n",
    "while True:\n",
    "    t = t + 1  # increase the temperature by 1 unit\n",
    "    w = w + 1  # increase the wind speed by 1 unit\n",
    "    \n",
    "    # Print the current temperature and wind speed\n",
    "    print(\"temperature\", t)\n",
    "    print(\"wind speed\", w)\n",
    "    \n",
    "    # Prepare the data parameters to be sent in the HTTP request\n",
    "    params = urllib.parse.urlencode({'field1': t, 'field2': w, 'key': key})\n",
    "    \n",
    "    # Set the headers for the POST request\n",
    "    headers = {\n",
    "        \"Content-type\": \"application/x-www-form-urlencoded\",  # specify the content type\n",
    "        \"Accept\": \"text/plain\"  # accept plain text response\n",
    "    }\n",
    "    \n",
    "    # Create an HTTP connection to the ThingSpeak API\n",
    "    con = http.client.HTTPConnection('api.thingspeak.com')\n",
    "    \n",
    "    # Send a POST request to update the ThingSpeak channel with the data\n",
    "    con.request('POST', '/update', params, headers)\n",
    "    \n",
    "    # Get the response from the server after sending the request\n",
    "    response = con.getresponse()\n",
    "    \n",
    "    # Print the status code and reason from the response to monitor success/failure\n",
    "    print(response.status, response.reason)\n",
    "    \n",
    "    # Read and discard the response data\n",
    "    data = response.read()\n",
    "\n",
    "# Close the connection to the server after the request\n",
    "con.close()\n"
   ]
  },
  {
   "cell_type": "code",
   "execution_count": null,
   "metadata": {},
   "outputs": [],
   "source": []
  },
  {
   "cell_type": "code",
   "execution_count": null,
   "metadata": {},
   "outputs": [],
   "source": [
    "#EXTRA"
   ]
  },
  {
   "cell_type": "code",
   "execution_count": null,
   "metadata": {},
   "outputs": [],
   "source": [
    "pip install Adafruit-DHT"
   ]
  },
  {
   "cell_type": "code",
   "execution_count": null,
   "metadata": {},
   "outputs": [],
   "source": [
    "import Adafruit_DHT\n",
    "import http.client\n",
    "import urllib.parse\n",
    "import time\n",
    "\n",
    "# Set the sensor type (DHT11 or DHT22) and the GPIO pin number\n",
    "sensor = Adafruit_DHT.DHT22  # Change to DHT11 if you're using that sensor\n",
    "gpio_pin = 4  # GPIO pin number where the sensor is connected\n",
    "\n",
    "# ThingSpeak API key (replace with your actual API key)\n",
    "key = '9835RG1JJLMRKNKG'\n",
    "\n",
    "# Set up the HTTP connection to ThingSpeak\n",
    "con = http.client.HTTPConnection('api.thingspeak.com')\n",
    "\n",
    "# Loop to continuously read data from the sensor and send to ThingSpeak\n",
    "while True:\n",
    "    # Read temperature and humidity from the DHT sensor\n",
    "    humidity, temperature = Adafruit_DHT.read_retry(sensor, gpio_pin)\n",
    "    \n",
    "    # Check if the reading was successful\n",
    "    if humidity is not None and temperature is not None:\n",
    "        # Print the readings for verification\n",
    "        print(f'Temperature: {temperature:.1f}C, Humidity: {humidity:.1f}%')\n",
    "        \n",
    "        # Prepare the data to send to ThingSpeak\n",
    "        params = urllib.parse.urlencode({\n",
    "            'field1': temperature,  # Temperature value to send\n",
    "            'field2': humidity,     # Humidity value to send\n",
    "            'key': key              # API key for authentication\n",
    "        })\n",
    "        \n",
    "        # Set the headers for the POST request\n",
    "        headers = {\n",
    "            \"Content-type\": \"application/x-www-form-urlencoded\",\n",
    "            \"Accept\": \"text/plain\"\n",
    "        }\n",
    "        \n",
    "        # Send the data to ThingSpeak\n",
    "        con.request('POST', '/update', params, headers)\n",
    "        \n",
    "        # Get the response from ThingSpeak\n",
    "        response = con.getresponse()\n",
    "        print(f\"Response: {response.status} {response.reason}\")\n",
    "        response.read()  # Read and discard the response data\n",
    "    else:\n",
    "        print(\"Failed to get reading from the sensor. Try again!\")\n",
    "\n",
    "    # Wait 60 seconds before reading the sensor again\n",
    "    time.sleep(60)\n",
    "\n",
    "# Close the connection (this part will never be reached due to the infinite loop)\n",
    "con.close()"
   ]
  }
 ],
 "metadata": {
  "colab": {
   "authorship_tag": "ABX9TyNJhpt63xyq7dVAQxvsxoxt",
   "provenance": []
  },
  "kernelspec": {
   "display_name": "Python 3 (ipykernel)",
   "language": "python",
   "name": "python3"
  },
  "language_info": {
   "codemirror_mode": {
    "name": "ipython",
    "version": 3
   },
   "file_extension": ".py",
   "mimetype": "text/x-python",
   "name": "python",
   "nbconvert_exporter": "python",
   "pygments_lexer": "ipython3",
   "version": "3.10.11"
  }
 },
 "nbformat": 4,
 "nbformat_minor": 4
}
